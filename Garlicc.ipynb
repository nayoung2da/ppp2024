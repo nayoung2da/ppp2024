{
 "cells": [
  {
   "cell_type": "code",
   "execution_count": 1,
   "id": "815343ae-e5e7-4ce4-a757-8c469ec6a85c",
   "metadata": {},
   "outputs": [
    {
     "data": {
      "application/vnd.webio.node+json": {
       "children": [],
       "instanceArgs": {
        "namespace": "html",
        "tag": "div"
       },
       "nodeType": "DOM",
       "props": {},
       "type": "node"
      },
      "text/html": [
       "<div style=\"padding: 1em; background-color: #f8d6da; border: 1px solid #f5c6cb; font-weight: bold;\">\n",
       "<p>The WebIO Jupyter extension was not detected. See the\n",
       "<a href=\"https://juliagizmos.github.io/WebIO.jl/latest/providers/ijulia/\" target=\"_blank\">\n",
       "    WebIO Jupyter integration documentation\n",
       "</a>\n",
       "for more information.\n",
       "</div>\n"
      ],
      "text/plain": [
       "WebIO._IJuliaInit()"
      ]
     },
     "metadata": {
      "@webio": {
       "kernelId": "c954a4b2-72cb-41e3-b0eb-14a32c45372a"
      }
     },
     "output_type": "display_data"
    }
   ],
   "source": [
    "using Cropbox"
   ]
  },
  {
   "cell_type": "code",
   "execution_count": 30,
   "id": "f4af6814-f941-4b81-9aa3-4b84a4d2007b",
   "metadata": {},
   "outputs": [],
   "source": [
    "using DataFrames\n",
    "using Dates\n",
    "import YAML\n",
    "import Pkg\n",
    "using Random\n",
    "using Plots\n",
    "#using TimeZones"
   ]
  },
  {
   "cell_type": "code",
   "execution_count": 3,
   "id": "42595702-04d4-4317-aeab-b6d0d279e130",
   "metadata": {},
   "outputs": [],
   "source": [
    "using Garlic"
   ]
  },
  {
   "cell_type": "code",
   "execution_count": 16,
   "id": "528f7544-9c54-410c-8900-275b0c975c1a",
   "metadata": {},
   "outputs": [
    {
     "data": {
      "text/plain": [
       "simulate_to_dataframe (generic function with 1 method)"
      ]
     },
     "execution_count": 16,
     "metadata": {},
     "output_type": "execute_result"
    }
   ],
   "source": [
    "using DataFrames\n",
    "\n",
    "# 시뮬레이션 결과를 데이터프레임으로 변환하는 함수\n",
    "function simulate_to_dataframe(result)\n",
    "    # 결과를 데이터프레임으로 변환\n",
    "    df = DataFrame(result)\n",
    "    return df\n",
    "end\n"
   ]
  },
  {
   "cell_type": "code",
   "execution_count": 9,
   "id": "ea60b174-ac91-46bb-94bc-fd0fe4dfb629",
   "metadata": {},
   "outputs": [
    {
     "data": {
      "text/html": [
       "<p style=\"font-family: monospace\">Config for 3 systems:</p>\n",
       "<table style=\"font-family: monospace\">\n",
       "<tr style=\"background-color: transparent\">\n",
       "<td colspan=\"3\" style=\"text-align: left; padding: 2px; padding-left: 20px; color: rebeccapurple\">Calendar</th>\n",
       "</tr>\n",
       "<tr style=\"background-color: transparent\"><td style=\"text-align: left; padding: 2px; padding-left: 40px; color: royalblue\">init</td><td style=\"text-align: center; padding: 2px 10px 2px 10px; color: gray\">=</td><td style=\"text-align: left; padding: 2px;\">ZonedDateTime&#40;2010, 10, 1, tz&quot;Asia/Seoul&quot;&#41;</td></tr>\n",
       "</table>\n",
       "\n",
       "<table style=\"font-family: monospace\">\n",
       "<tr style=\"background-color: transparent\">\n",
       "<td colspan=\"3\" style=\"text-align: left; padding: 2px; padding-left: 20px; color: rebeccapurple\">Weather</th>\n",
       "</tr>\n",
       "<tr style=\"background-color: transparent\"><td style=\"text-align: left; padding: 2px; padding-left: 40px; color: royalblue\">store</td><td style=\"text-align: center; padding: 2px 10px 2px 10px; color: gray\">=</td><td style=\"text-align: left; padding: 2px;\">8760×10 DataFrame…</td></tr>\n",
       "</table>\n",
       "\n",
       "<table style=\"font-family: monospace\">\n",
       "<tr style=\"background-color: transparent\">\n",
       "<td colspan=\"3\" style=\"text-align: left; padding: 2px; padding-left: 20px; color: rebeccapurple\">Phenology</th>\n",
       "</tr>\n",
       "<tr style=\"background-color: transparent\"><td style=\"text-align: left; padding: 2px; padding-left: 40px; color: royalblue\">planting_date</td><td style=\"text-align: center; padding: 2px 10px 2px 10px; color: gray\">=</td><td style=\"text-align: left; padding: 2px;\">ZonedDateTime&#40;2010, 11, 1, tz&quot;Asia/Seoul&quot;&#41;</td></tr>\n",
       "</table>\n"
      ],
      "text/plain": [
       "Config for 3 systems:\n",
       "  \u001b[95mCalendar\u001b[39m\n",
       "    \u001b[94minit\u001b[39m\u001b[90m = \u001b[39mZonedDateTime(2010, 10, 1, tz\"Asia/Seoul\")\n",
       "  \u001b[95mWeather\u001b[39m\n",
       "    \u001b[94mstore\u001b[39m\u001b[90m = \u001b[39m8760×10 DataFrame…\n",
       "  \u001b[95mPhenology\u001b[39m\n",
       "    \u001b[94mplanting_date\u001b[39m\u001b[90m = \u001b[39mZonedDateTime(2010, 11, 1, tz\"Asia/Seoul\")"
      ]
     },
     "execution_count": 9,
     "metadata": {},
     "output_type": "execute_result"
    }
   ],
   "source": [
    "pheno_config = @config(\n",
    "    :Calendar  => :init          => ZonedDateTime(2010, 10, 1, tz\"Asia/Seoul\"),\n",
    "    :Weather   => :store         => Garlic.loadwea(Garlic.datapath(\"Korea/185_2010.wea\"), tz\"Asia/Seoul\"),\n",
    "    :Phenology => :planting_date => ZonedDateTime(2010, 11, 1, tz\"Asia/Seoul\"),\n",
    ")\n",
    "    "
   ]
  },
  {
   "cell_type": "code",
   "execution_count": 4,
   "id": "ae4f794c-974b-4462-93e9-e82ff736d8c9",
   "metadata": {},
   "outputs": [
    {
     "data": {
      "text/html": [
       "<p style=\"font-family: monospace\">Config for 7 systems:</p>\n",
       "<table style=\"font-family: monospace\">\n",
       "<tr style=\"background-color: transparent\">\n",
       "<td colspan=\"3\" style=\"text-align: left; padding: 2px; padding-left: 20px; color: rebeccapurple\">Phenology</th>\n",
       "</tr>\n",
       "<tr style=\"background-color: transparent\"><td style=\"text-align: left; padding: 2px; padding-left: 40px; color: royalblue\">optimal_temperature</td><td style=\"text-align: center; padding: 2px 10px 2px 10px; color: gray\">=</td><td style=\"text-align: left; padding: 2px;\">22.28</td></tr>\n",
       "<tr style=\"background-color: transparent\"><td style=\"text-align: left; padding: 2px; padding-left: 40px; color: royalblue\">ceiling_temperature</td><td style=\"text-align: center; padding: 2px 10px 2px 10px; color: gray\">=</td><td style=\"text-align: left; padding: 2px;\">34.23</td></tr>\n",
       "<tr style=\"background-color: transparent\"><td style=\"text-align: left; padding: 2px; padding-left: 40px; color: royalblue\">critical_photoperiod</td><td style=\"text-align: center; padding: 2px 10px 2px 10px; color: gray\">=</td><td style=\"text-align: left; padding: 2px;\">12</td></tr>\n",
       "<tr style=\"background-color: transparent\"><td style=\"text-align: left; padding: 2px; padding-left: 40px; color: royalblue\">maximum_leaf_initiation_rate</td><td style=\"text-align: center; padding: 2px 10px 2px 10px; color: gray\">=</td><td style=\"text-align: left; padding: 2px;\">0.1003</td></tr>\n",
       "<tr style=\"background-color: transparent\"><td style=\"text-align: left; padding: 2px; padding-left: 40px; color: royalblue\">storage_temperature</td><td style=\"text-align: center; padding: 2px 10px 2px 10px; color: gray\">=</td><td style=\"text-align: left; padding: 2px;\">8</td></tr>\n",
       "<tr style=\"background-color: transparent\"><td style=\"text-align: left; padding: 2px; padding-left: 40px; color: royalblue\">maximum_phyllochron_asymptote</td><td style=\"text-align: center; padding: 2px 10px 2px 10px; color: gray\">=</td><td style=\"text-align: left; padding: 2px;\">0.4421</td></tr>\n",
       "<tr style=\"background-color: transparent\"><td style=\"text-align: left; padding: 2px; padding-left: 40px; color: royalblue\">leaves_generic</td><td style=\"text-align: center; padding: 2px 10px 2px 10px; color: gray\">=</td><td style=\"text-align: left; padding: 2px;\">10</td></tr>\n",
       "<tr style=\"background-color: transparent\"><td style=\"text-align: left; padding: 2px; padding-left: 40px; color: royalblue\">initial_leaves_at_harvest</td><td style=\"text-align: center; padding: 2px 10px 2px 10px; color: gray\">=</td><td style=\"text-align: left; padding: 2px;\">6</td></tr>\n",
       "<tr style=\"background-color: transparent\"><td style=\"text-align: left; padding: 2px; padding-left: 40px; color: royalblue\">scape_appearance_threshold</td><td style=\"text-align: center; padding: 2px 10px 2px 10px; color: gray\">=</td><td style=\"text-align: left; padding: 2px;\">3.0</td></tr>\n",
       "<tr style=\"background-color: transparent\"><td style=\"text-align: left; padding: 2px; padding-left: 40px; color: royalblue\">planting_date</td><td style=\"text-align: center; padding: 2px 10px 2px 10px; color: gray\">=</td><td style=\"text-align: left; padding: 2px;\">ZonedDateTime&#40;2014, 10, 8, tz&quot;Asia/Seoul&quot;&#41;</td></tr>\n",
       "<tr style=\"background-color: transparent\"><td style=\"text-align: left; padding: 2px; padding-left: 40px; color: royalblue\">scape_removal_date</td><td style=\"text-align: center; padding: 2px 10px 2px 10px; color: gray\">=</td><td style=\"text-align: left; padding: 2px;\">nothing</td></tr>\n",
       "<tr style=\"background-color: transparent\"><td style=\"text-align: left; padding: 2px; padding-left: 40px; color: royalblue\">harvest_date</td><td style=\"text-align: center; padding: 2px 10px 2px 10px; color: gray\">=</td><td style=\"text-align: left; padding: 2px;\">ZonedDateTime&#40;2015, 6, 19, tz&quot;Asia/Seoul&quot;&#41;</td></tr>\n",
       "<tr style=\"background-color: transparent\"><td style=\"text-align: left; padding: 2px; padding-left: 40px; color: royalblue\">storage_days</td><td style=\"text-align: center; padding: 2px 10px 2px 10px; color: gray\">=</td><td style=\"text-align: left; padding: 2px;\">100</td></tr>\n",
       "</table>\n",
       "\n",
       "<table style=\"font-family: monospace\">\n",
       "<tr style=\"background-color: transparent\">\n",
       "<td colspan=\"3\" style=\"text-align: left; padding: 2px; padding-left: 20px; color: rebeccapurple\">Leaf</th>\n",
       "</tr>\n",
       "<tr style=\"background-color: transparent\"><td style=\"text-align: left; padding: 2px; padding-left: 40px; color: royalblue\">maximum_elongation_rate</td><td style=\"text-align: center; padding: 2px 10px 2px 10px; color: gray\">=</td><td style=\"text-align: left; padding: 2px;\">5.0</td></tr>\n",
       "<tr style=\"background-color: transparent\"><td style=\"text-align: left; padding: 2px; padding-left: 40px; color: royalblue\">minimum_length_of_longest_leaf</td><td style=\"text-align: center; padding: 2px 10px 2px 10px; color: gray\">=</td><td style=\"text-align: left; padding: 2px;\">90.0</td></tr>\n",
       "<tr style=\"background-color: transparent\"><td style=\"text-align: left; padding: 2px; padding-left: 40px; color: royalblue\">stay_green</td><td style=\"text-align: center; padding: 2px 10px 2px 10px; color: gray\">=</td><td style=\"text-align: left; padding: 2px;\">1.5</td></tr>\n",
       "</table>\n",
       "\n",
       "<table style=\"font-family: monospace\">\n",
       "<tr style=\"background-color: transparent\">\n",
       "<td colspan=\"3\" style=\"text-align: left; padding: 2px; padding-left: 20px; color: rebeccapurple\">Carbon</th>\n",
       "</tr>\n",
       "<tr style=\"background-color: transparent\"><td style=\"text-align: left; padding: 2px; padding-left: 40px; color: royalblue\">maintenance_respiration_coefficient</td><td style=\"text-align: center; padding: 2px 10px 2px 10px; color: gray\">=</td><td style=\"text-align: left; padding: 2px;\">0.015</td></tr>\n",
       "<tr style=\"background-color: transparent\"><td style=\"text-align: left; padding: 2px; padding-left: 40px; color: royalblue\">synthesis_efficiency</td><td style=\"text-align: center; padding: 2px 10px 2px 10px; color: gray\">=</td><td style=\"text-align: left; padding: 2px;\">0.75</td></tr>\n",
       "<tr style=\"background-color: transparent\"><td style=\"text-align: left; padding: 2px; padding-left: 40px; color: royalblue\">partitioning_table</td><td style=\"text-align: center; padding: 2px 10px 2px 10px; color: gray\">=</td><td style=\"text-align: left; padding: 2px;\">&#91;0.0 0.0 … 0.0 0.0; 0.35 0.3 … 0.0 0.1; … ; 0.05 0.0 … 0.0 0.95; 0.0 0.0 … 0.0 0.0&#93;</td></tr>\n",
       "</table>\n",
       "\n",
       "<table style=\"font-family: monospace\">\n",
       "<tr style=\"background-color: transparent\">\n",
       "<td colspan=\"3\" style=\"text-align: left; padding: 2px; padding-left: 20px; color: rebeccapurple\">Plant</th>\n",
       "</tr>\n",
       "<tr style=\"background-color: transparent\"><td style=\"text-align: left; padding: 2px; padding-left: 40px; color: royalblue\">initial_planting_density</td><td style=\"text-align: center; padding: 2px 10px 2px 10px; color: gray\">=</td><td style=\"text-align: left; padding: 2px;\">55.5</td></tr>\n",
       "</table>\n",
       "\n",
       "<table style=\"font-family: monospace\">\n",
       "<tr style=\"background-color: transparent\">\n",
       "<td colspan=\"3\" style=\"text-align: left; padding: 2px; padding-left: 20px; color: rebeccapurple\">Location</th>\n",
       "</tr>\n",
       "<tr style=\"background-color: transparent\"><td style=\"text-align: left; padding: 2px; padding-left: 40px; color: royalblue\">latitude</td><td style=\"text-align: center; padding: 2px 10px 2px 10px; color: gray\">=</td><td style=\"text-align: left; padding: 2px;\">33.4684</td></tr>\n",
       "<tr style=\"background-color: transparent\"><td style=\"text-align: left; padding: 2px; padding-left: 40px; color: royalblue\">longitude</td><td style=\"text-align: center; padding: 2px 10px 2px 10px; color: gray\">=</td><td style=\"text-align: left; padding: 2px;\">126.518</td></tr>\n",
       "</table>\n",
       "\n",
       "<table style=\"font-family: monospace\">\n",
       "<tr style=\"background-color: transparent\">\n",
       "<td colspan=\"3\" style=\"text-align: left; padding: 2px; padding-left: 20px; color: rebeccapurple\">Weather</th>\n",
       "</tr>\n",
       "<tr style=\"background-color: transparent\"><td style=\"text-align: left; padding: 2px; padding-left: 40px; color: royalblue\">store</td><td style=\"text-align: center; padding: 2px 10px 2px 10px; color: gray\">=</td><td style=\"text-align: left; padding: 2px;\">8760×10 DataFrame…</td></tr>\n",
       "</table>\n",
       "\n",
       "<table style=\"font-family: monospace\">\n",
       "<tr style=\"background-color: transparent\">\n",
       "<td colspan=\"3\" style=\"text-align: left; padding: 2px; padding-left: 20px; color: rebeccapurple\">Calendar</th>\n",
       "</tr>\n",
       "<tr style=\"background-color: transparent\"><td style=\"text-align: left; padding: 2px; padding-left: 40px; color: royalblue\">init</td><td style=\"text-align: center; padding: 2px 10px 2px 10px; color: gray\">=</td><td style=\"text-align: left; padding: 2px;\">ZonedDateTime&#40;2014, 10, 1, tz&quot;Asia/Seoul&quot;&#41;</td></tr>\n",
       "<tr style=\"background-color: transparent\"><td style=\"text-align: left; padding: 2px; padding-left: 40px; color: royalblue\">last</td><td style=\"text-align: center; padding: 2px 10px 2px 10px; color: gray\">=</td><td style=\"text-align: left; padding: 2px;\">ZonedDateTime&#40;2015, 6, 30, tz&quot;Asia/Seoul&quot;&#41;</td></tr>\n",
       "</table>\n"
      ],
      "text/plain": [
       "Config for 7 systems:\n",
       "  \u001b[95mPhenology\u001b[39m\n",
       "    \u001b[94moptimal_temperature          \u001b[39m\u001b[90m = \u001b[39m22.28\n",
       "    \u001b[94mceiling_temperature          \u001b[39m\u001b[90m = \u001b[39m34.23\n",
       "    \u001b[94mcritical_photoperiod         \u001b[39m\u001b[90m = \u001b[39m12\n",
       "    \u001b[94mmaximum_leaf_initiation_rate \u001b[39m\u001b[90m = \u001b[39m0.1003\n",
       "    \u001b[94mstorage_temperature          \u001b[39m\u001b[90m = \u001b[39m8\n",
       "    \u001b[94mmaximum_phyllochron_asymptote\u001b[39m\u001b[90m = \u001b[39m0.4421\n",
       "    \u001b[94mleaves_generic               \u001b[39m\u001b[90m = \u001b[39m10\n",
       "    \u001b[94minitial_leaves_at_harvest    \u001b[39m\u001b[90m = \u001b[39m6\n",
       "    \u001b[94mscape_appearance_threshold   \u001b[39m\u001b[90m = \u001b[39m3.0\n",
       "    \u001b[94mplanting_date                \u001b[39m\u001b[90m = \u001b[39mZonedDateTime(2014, 10, 8, tz\"Asia/Seoul\")\n",
       "    \u001b[94mscape_removal_date           \u001b[39m\u001b[90m = \u001b[39mnothing\n",
       "    \u001b[94mharvest_date                 \u001b[39m\u001b[90m = \u001b[39mZonedDateTime(2015, 6, 19, tz\"Asia/Seoul\")\n",
       "    \u001b[94mstorage_days                 \u001b[39m\u001b[90m = \u001b[39m100\n",
       "  \u001b[95mLeaf\u001b[39m\n",
       "    \u001b[94mmaximum_elongation_rate       \u001b[39m\u001b[90m = \u001b[39m5.0\n",
       "    \u001b[94mminimum_length_of_longest_leaf\u001b[39m\u001b[90m = \u001b[39m90.0\n",
       "    \u001b[94mstay_green                    \u001b[39m\u001b[90m = \u001b[39m1.5\n",
       "  \u001b[95mCarbon\u001b[39m\n",
       "    \u001b[94mmaintenance_respiration_coefficient\u001b[39m\u001b[90m = \u001b[39m0.015\n",
       "    \u001b[94msynthesis_efficiency               \u001b[39m\u001b[90m = \u001b[39m0.75\n",
       "    \u001b[94mpartitioning_table                 \u001b[39m\u001b[90m = \u001b[39m[0.0 0.0 … 0.0 0.0; 0.35 0.3 … 0.0 0.1; … ; 0.05 0.0 … 0.0 0.95; 0.0 0.0 … 0.0 0.0]\n",
       "  \u001b[95mPlant\u001b[39m\n",
       "    \u001b[94minitial_planting_density\u001b[39m\u001b[90m = \u001b[39m55.5\n",
       "  \u001b[95mLocation\u001b[39m\n",
       "    \u001b[94mlatitude \u001b[39m\u001b[90m = \u001b[39m33.4684\n",
       "    \u001b[94mlongitude\u001b[39m\u001b[90m = \u001b[39m126.518\n",
       "  \u001b[95mWeather\u001b[39m\n",
       "    \u001b[94mstore\u001b[39m\u001b[90m = \u001b[39m8760×10 DataFrame…\n",
       "  \u001b[95mCalendar\u001b[39m\n",
       "    \u001b[94minit\u001b[39m\u001b[90m = \u001b[39mZonedDateTime(2014, 10, 1, tz\"Asia/Seoul\")\n",
       "    \u001b[94mlast\u001b[39m\u001b[90m = \u001b[39mZonedDateTime(2015, 6, 30, tz\"Asia/Seoul\")"
      ]
     },
     "execution_count": 4,
     "metadata": {},
     "output_type": "execute_result"
    }
   ],
   "source": [
    "config = Garlic.Examples.RCP.ND_RICCA_2014_field"
   ]
  },
  {
   "cell_type": "code",
   "execution_count": 4,
   "id": "6bf6ad22-a602-4296-821e-537fd3d78d4b",
   "metadata": {},
   "outputs": [
    {
     "data": {
      "text/html": [
       "<p style=\"font-family: monospace\">Config for 7 systems:</p>\n",
       "<table style=\"font-family: monospace\">\n",
       "<tr style=\"background-color: transparent\">\n",
       "<td colspan=\"3\" style=\"text-align: left; padding: 2px; padding-left: 20px; color: rebeccapurple\">Phenology</th>\n",
       "</tr>\n",
       "<tr style=\"background-color: transparent\"><td style=\"text-align: left; padding: 2px; padding-left: 40px; color: royalblue\">optimal_temperature</td><td style=\"text-align: center; padding: 2px 10px 2px 10px; color: gray\">=</td><td style=\"text-align: left; padding: 2px;\">22.28</td></tr>\n",
       "<tr style=\"background-color: transparent\"><td style=\"text-align: left; padding: 2px; padding-left: 40px; color: royalblue\">ceiling_temperature</td><td style=\"text-align: center; padding: 2px 10px 2px 10px; color: gray\">=</td><td style=\"text-align: left; padding: 2px;\">34.23</td></tr>\n",
       "<tr style=\"background-color: transparent\"><td style=\"text-align: left; padding: 2px; padding-left: 40px; color: royalblue\">critical_photoperiod</td><td style=\"text-align: center; padding: 2px 10px 2px 10px; color: gray\">=</td><td style=\"text-align: left; padding: 2px;\">12</td></tr>\n",
       "<tr style=\"background-color: transparent\"><td style=\"text-align: left; padding: 2px; padding-left: 40px; color: royalblue\">maximum_leaf_initiation_rate</td><td style=\"text-align: center; padding: 2px 10px 2px 10px; color: gray\">=</td><td style=\"text-align: left; padding: 2px;\">0.1003</td></tr>\n",
       "<tr style=\"background-color: transparent\"><td style=\"text-align: left; padding: 2px; padding-left: 40px; color: royalblue\">storage_temperature</td><td style=\"text-align: center; padding: 2px 10px 2px 10px; color: gray\">=</td><td style=\"text-align: left; padding: 2px;\">8</td></tr>\n",
       "<tr style=\"background-color: transparent\"><td style=\"text-align: left; padding: 2px; padding-left: 40px; color: royalblue\">maximum_phyllochron_asymptote</td><td style=\"text-align: center; padding: 2px 10px 2px 10px; color: gray\">=</td><td style=\"text-align: left; padding: 2px;\">0.4421</td></tr>\n",
       "<tr style=\"background-color: transparent\"><td style=\"text-align: left; padding: 2px; padding-left: 40px; color: royalblue\">leaves_generic</td><td style=\"text-align: center; padding: 2px 10px 2px 10px; color: gray\">=</td><td style=\"text-align: left; padding: 2px;\">10</td></tr>\n",
       "<tr style=\"background-color: transparent\"><td style=\"text-align: left; padding: 2px; padding-left: 40px; color: royalblue\">initial_leaves_at_harvest</td><td style=\"text-align: center; padding: 2px 10px 2px 10px; color: gray\">=</td><td style=\"text-align: left; padding: 2px;\">6</td></tr>\n",
       "<tr style=\"background-color: transparent\"><td style=\"text-align: left; padding: 2px; padding-left: 40px; color: royalblue\">scape_appearance_threshold</td><td style=\"text-align: center; padding: 2px 10px 2px 10px; color: gray\">=</td><td style=\"text-align: left; padding: 2px;\">3.0</td></tr>\n",
       "<tr style=\"background-color: transparent\"><td style=\"text-align: left; padding: 2px; padding-left: 40px; color: royalblue\">planting_date</td><td style=\"text-align: center; padding: 2px 10px 2px 10px; color: gray\">=</td><td style=\"text-align: left; padding: 2px;\">ZonedDateTime&#40;2014, 10, 8, tz&quot;Asia/Seoul&quot;&#41;</td></tr>\n",
       "<tr style=\"background-color: transparent\"><td style=\"text-align: left; padding: 2px; padding-left: 40px; color: royalblue\">scape_removal_date</td><td style=\"text-align: center; padding: 2px 10px 2px 10px; color: gray\">=</td><td style=\"text-align: left; padding: 2px;\">nothing</td></tr>\n",
       "<tr style=\"background-color: transparent\"><td style=\"text-align: left; padding: 2px; padding-left: 40px; color: royalblue\">harvest_date</td><td style=\"text-align: center; padding: 2px 10px 2px 10px; color: gray\">=</td><td style=\"text-align: left; padding: 2px;\">ZonedDateTime&#40;2015, 6, 19, tz&quot;Asia/Seoul&quot;&#41;</td></tr>\n",
       "<tr style=\"background-color: transparent\"><td style=\"text-align: left; padding: 2px; padding-left: 40px; color: royalblue\">storage_days</td><td style=\"text-align: center; padding: 2px 10px 2px 10px; color: gray\">=</td><td style=\"text-align: left; padding: 2px;\">100</td></tr>\n",
       "</table>\n",
       "\n",
       "<table style=\"font-family: monospace\">\n",
       "<tr style=\"background-color: transparent\">\n",
       "<td colspan=\"3\" style=\"text-align: left; padding: 2px; padding-left: 20px; color: rebeccapurple\">Leaf</th>\n",
       "</tr>\n",
       "<tr style=\"background-color: transparent\"><td style=\"text-align: left; padding: 2px; padding-left: 40px; color: royalblue\">maximum_elongation_rate</td><td style=\"text-align: center; padding: 2px 10px 2px 10px; color: gray\">=</td><td style=\"text-align: left; padding: 2px;\">5.0</td></tr>\n",
       "<tr style=\"background-color: transparent\"><td style=\"text-align: left; padding: 2px; padding-left: 40px; color: royalblue\">minimum_length_of_longest_leaf</td><td style=\"text-align: center; padding: 2px 10px 2px 10px; color: gray\">=</td><td style=\"text-align: left; padding: 2px;\">90.0</td></tr>\n",
       "<tr style=\"background-color: transparent\"><td style=\"text-align: left; padding: 2px; padding-left: 40px; color: royalblue\">stay_green</td><td style=\"text-align: center; padding: 2px 10px 2px 10px; color: gray\">=</td><td style=\"text-align: left; padding: 2px;\">1.5</td></tr>\n",
       "</table>\n",
       "\n",
       "<table style=\"font-family: monospace\">\n",
       "<tr style=\"background-color: transparent\">\n",
       "<td colspan=\"3\" style=\"text-align: left; padding: 2px; padding-left: 20px; color: rebeccapurple\">Carbon</th>\n",
       "</tr>\n",
       "<tr style=\"background-color: transparent\"><td style=\"text-align: left; padding: 2px; padding-left: 40px; color: royalblue\">maintenance_respiration_coefficient</td><td style=\"text-align: center; padding: 2px 10px 2px 10px; color: gray\">=</td><td style=\"text-align: left; padding: 2px;\">0.015</td></tr>\n",
       "<tr style=\"background-color: transparent\"><td style=\"text-align: left; padding: 2px; padding-left: 40px; color: royalblue\">synthesis_efficiency</td><td style=\"text-align: center; padding: 2px 10px 2px 10px; color: gray\">=</td><td style=\"text-align: left; padding: 2px;\">0.75</td></tr>\n",
       "<tr style=\"background-color: transparent\"><td style=\"text-align: left; padding: 2px; padding-left: 40px; color: royalblue\">partitioning_table</td><td style=\"text-align: center; padding: 2px 10px 2px 10px; color: gray\">=</td><td style=\"text-align: left; padding: 2px;\">&#91;0.0 0.0 … 0.0 0.0; 0.35 0.3 … 0.0 0.1; … ; 0.05 0.0 … 0.0 0.95; 0.0 0.0 … 0.0 0.0&#93;</td></tr>\n",
       "</table>\n",
       "\n",
       "<table style=\"font-family: monospace\">\n",
       "<tr style=\"background-color: transparent\">\n",
       "<td colspan=\"3\" style=\"text-align: left; padding: 2px; padding-left: 20px; color: rebeccapurple\">Plant</th>\n",
       "</tr>\n",
       "<tr style=\"background-color: transparent\"><td style=\"text-align: left; padding: 2px; padding-left: 40px; color: royalblue\">initial_planting_density</td><td style=\"text-align: center; padding: 2px 10px 2px 10px; color: gray\">=</td><td style=\"text-align: left; padding: 2px;\">55.5</td></tr>\n",
       "</table>\n",
       "\n",
       "<table style=\"font-family: monospace\">\n",
       "<tr style=\"background-color: transparent\">\n",
       "<td colspan=\"3\" style=\"text-align: left; padding: 2px; padding-left: 20px; color: rebeccapurple\">Location</th>\n",
       "</tr>\n",
       "<tr style=\"background-color: transparent\"><td style=\"text-align: left; padding: 2px; padding-left: 40px; color: royalblue\">latitude</td><td style=\"text-align: center; padding: 2px 10px 2px 10px; color: gray\">=</td><td style=\"text-align: left; padding: 2px;\">33.4684</td></tr>\n",
       "<tr style=\"background-color: transparent\"><td style=\"text-align: left; padding: 2px; padding-left: 40px; color: royalblue\">longitude</td><td style=\"text-align: center; padding: 2px 10px 2px 10px; color: gray\">=</td><td style=\"text-align: left; padding: 2px;\">126.518</td></tr>\n",
       "</table>\n",
       "\n",
       "<table style=\"font-family: monospace\">\n",
       "<tr style=\"background-color: transparent\">\n",
       "<td colspan=\"3\" style=\"text-align: left; padding: 2px; padding-left: 20px; color: rebeccapurple\">Weather</th>\n",
       "</tr>\n",
       "<tr style=\"background-color: transparent\"><td style=\"text-align: left; padding: 2px; padding-left: 40px; color: royalblue\">store</td><td style=\"text-align: center; padding: 2px 10px 2px 10px; color: gray\">=</td><td style=\"text-align: left; padding: 2px;\">8760×10 DataFrame…</td></tr>\n",
       "</table>\n",
       "\n",
       "<table style=\"font-family: monospace\">\n",
       "<tr style=\"background-color: transparent\">\n",
       "<td colspan=\"3\" style=\"text-align: left; padding: 2px; padding-left: 20px; color: rebeccapurple\">Calendar</th>\n",
       "</tr>\n",
       "<tr style=\"background-color: transparent\"><td style=\"text-align: left; padding: 2px; padding-left: 40px; color: royalblue\">init</td><td style=\"text-align: center; padding: 2px 10px 2px 10px; color: gray\">=</td><td style=\"text-align: left; padding: 2px;\">ZonedDateTime&#40;2014, 10, 1, tz&quot;Asia/Seoul&quot;&#41;</td></tr>\n",
       "<tr style=\"background-color: transparent\"><td style=\"text-align: left; padding: 2px; padding-left: 40px; color: royalblue\">last</td><td style=\"text-align: center; padding: 2px 10px 2px 10px; color: gray\">=</td><td style=\"text-align: left; padding: 2px;\">ZonedDateTime&#40;2015, 6, 30, tz&quot;Asia/Seoul&quot;&#41;</td></tr>\n",
       "</table>\n"
      ],
      "text/plain": [
       "Config for 7 systems:\n",
       "  \u001b[95mPhenology\u001b[39m\n",
       "    \u001b[94moptimal_temperature          \u001b[39m\u001b[90m = \u001b[39m22.28\n",
       "    \u001b[94mceiling_temperature          \u001b[39m\u001b[90m = \u001b[39m34.23\n",
       "    \u001b[94mcritical_photoperiod         \u001b[39m\u001b[90m = \u001b[39m12\n",
       "    \u001b[94mmaximum_leaf_initiation_rate \u001b[39m\u001b[90m = \u001b[39m0.1003\n",
       "    \u001b[94mstorage_temperature          \u001b[39m\u001b[90m = \u001b[39m8\n",
       "    \u001b[94mmaximum_phyllochron_asymptote\u001b[39m\u001b[90m = \u001b[39m0.4421\n",
       "    \u001b[94mleaves_generic               \u001b[39m\u001b[90m = \u001b[39m10\n",
       "    \u001b[94minitial_leaves_at_harvest    \u001b[39m\u001b[90m = \u001b[39m6\n",
       "    \u001b[94mscape_appearance_threshold   \u001b[39m\u001b[90m = \u001b[39m3.0\n",
       "    \u001b[94mplanting_date                \u001b[39m\u001b[90m = \u001b[39mZonedDateTime(2014, 10, 8, tz\"Asia/Seoul\")\n",
       "    \u001b[94mscape_removal_date           \u001b[39m\u001b[90m = \u001b[39mnothing\n",
       "    \u001b[94mharvest_date                 \u001b[39m\u001b[90m = \u001b[39mZonedDateTime(2015, 6, 19, tz\"Asia/Seoul\")\n",
       "    \u001b[94mstorage_days                 \u001b[39m\u001b[90m = \u001b[39m100\n",
       "  \u001b[95mLeaf\u001b[39m\n",
       "    \u001b[94mmaximum_elongation_rate       \u001b[39m\u001b[90m = \u001b[39m5.0\n",
       "    \u001b[94mminimum_length_of_longest_leaf\u001b[39m\u001b[90m = \u001b[39m90.0\n",
       "    \u001b[94mstay_green                    \u001b[39m\u001b[90m = \u001b[39m1.5\n",
       "  \u001b[95mCarbon\u001b[39m\n",
       "    \u001b[94mmaintenance_respiration_coefficient\u001b[39m\u001b[90m = \u001b[39m0.015\n",
       "    \u001b[94msynthesis_efficiency               \u001b[39m\u001b[90m = \u001b[39m0.75\n",
       "    \u001b[94mpartitioning_table                 \u001b[39m\u001b[90m = \u001b[39m[0.0 0.0 … 0.0 0.0; 0.35 0.3 … 0.0 0.1; … ; 0.05 0.0 … 0.0 0.95; 0.0 0.0 … 0.0 0.0]\n",
       "  \u001b[95mPlant\u001b[39m\n",
       "    \u001b[94minitial_planting_density\u001b[39m\u001b[90m = \u001b[39m55.5\n",
       "  \u001b[95mLocation\u001b[39m\n",
       "    \u001b[94mlatitude \u001b[39m\u001b[90m = \u001b[39m33.4684\n",
       "    \u001b[94mlongitude\u001b[39m\u001b[90m = \u001b[39m126.518\n",
       "  \u001b[95mWeather\u001b[39m\n",
       "    \u001b[94mstore\u001b[39m\u001b[90m = \u001b[39m8760×10 DataFrame…\n",
       "  \u001b[95mCalendar\u001b[39m\n",
       "    \u001b[94minit\u001b[39m\u001b[90m = \u001b[39mZonedDateTime(2014, 10, 1, tz\"Asia/Seoul\")\n",
       "    \u001b[94mlast\u001b[39m\u001b[90m = \u001b[39mZonedDateTime(2015, 6, 30, tz\"Asia/Seoul\")"
      ]
     },
     "execution_count": 4,
     "metadata": {},
     "output_type": "execute_result"
    }
   ],
   "source": [
    "config = Garlic.Examples.RCP.ND_RICCA_2014_field"
   ]
  },
  {
   "cell_type": "code",
   "execution_count": 37,
   "id": "5722c90f-5066-43f4-812d-ec986c332346",
   "metadata": {},
   "outputs": [
    {
     "name": "stderr",
     "output_type": "stream",
     "text": [
      "\u001b[32mProgress: 100%[===========================] Time: 0:00:04 ( 0.65 ms/it)\u001b[39m\n"
     ]
    },
    {
     "name": "stdout",
     "output_type": "stream",
     "text": [
      "Column names of the result DataFrame: \n",
      "[\"time\"]\n"
     ]
    },
    {
     "ename": "LoadError",
     "evalue": "Cannot convert ZonedDateTime to series data for plotting",
     "output_type": "error",
     "traceback": [
      "Cannot convert ZonedDateTime to series data for plotting",
      "",
      "Stacktrace:",
      "  [1] error(s::String)",
      "    @ Base ./error.jl:35",
      "  [2] _prepare_series_data(x::ZonedDateTime)",
      "    @ RecipesPipeline ~/.julia/packages/RecipesPipeline/BGM3l/src/series.jl:8",
      "  [3] _series_data_vector(x::ZonedDateTime, plotattributes::Dict{Symbol, Any})",
      "    @ RecipesPipeline ~/.julia/packages/RecipesPipeline/BGM3l/src/series.jl:36",
      "  [4] (::RecipesPipeline.var\"#21#24\"{Dict{Symbol, Any}})(vi::ZonedDateTime)",
      "    @ RecipesPipeline ./none:0",
      "  [5] iterate",
      "    @ ./generator.jl:47 [inlined]",
      "  [6] _series_data_vector(v::Vector{ZonedDateTime}, plotattributes::Dict{Symbol, Any})",
      "    @ RecipesPipeline ~/.julia/packages/RecipesPipeline/BGM3l/src/series.jl:51",
      "  [7] macro expansion",
      "    @ ~/.julia/packages/RecipesPipeline/BGM3l/src/series.jl:129 [inlined]",
      "  [8] apply_recipe(plotattributes::AbstractDict{Symbol, Any}, ::Type{RecipesPipeline.SliceIt}, x::Any, y::Any, z::Any)",
      "    @ RecipesPipeline ~/.julia/packages/RecipesBase/BRe07/src/RecipesBase.jl:300",
      "  [9] _process_userrecipes!(plt::Any, plotattributes::Any, args::Any)",
      "    @ RecipesPipeline ~/.julia/packages/RecipesPipeline/BGM3l/src/user_recipe.jl:38",
      " [10] recipe_pipeline!(plt::Any, plotattributes::Any, args::Any)",
      "    @ RecipesPipeline ~/.julia/packages/RecipesPipeline/BGM3l/src/RecipesPipeline.jl:72",
      " [11] _plot!(plt::Plots.Plot, plotattributes::Any, args::Any)",
      "    @ Plots ~/.julia/packages/Plots/FFuQi/src/plot.jl:223",
      " [12] #plot!#199",
      "    @ ~/.julia/packages/Plots/FFuQi/src/plot.jl:213 [inlined]",
      " [13] plot!",
      "    @ Plots ~/.julia/packages/Plots/FFuQi/src/plot.jl:208 [inlined]",
      " [14] plot_simulation_results(results::Vector{Any}, params::Vector{Any})",
      "    @ Main ./In[37]:56",
      " [15] top-level scope",
      "    @ In[37]:69"
     ]
    }
   ],
   "source": [
    "# 시뮬레이션 수 설정\n",
    "num_simulations = 1\n",
    "\n",
    "# 결과를 저장할 리스트\n",
    "leaf_results = []\n",
    "params = []  # 매개변수 값을 저장할 리스트\n",
    "\n",
    "# 시뮬레이션 실행\n",
    "for i in 1:num_simulations\n",
    "    # Leaf 매개변수에 대해 랜덤 값 생성\n",
    "    max_elongation_rate = rand(3.0:0.1:7.0)\n",
    "    min_length_longest_leaf = rand(70.0:1.0:110.0)\n",
    "    stay_green = rand(1.0:0.1:6.0)\n",
    "    \n",
    "    # 현재 시뮬레이션의 Leaf 구성\n",
    "    leaf_config = deepcopy(config)\n",
    "    leaf_config[:Leaf][:maximum_elongation_rate] = max_elongation_rate\n",
    "    leaf_config[:Leaf][:minimum_length_of_longest_leaf] = min_length_longest_leaf\n",
    "    leaf_config[:Leaf][:stay_green] = stay_green\n",
    "\n",
    "    # 시뮬레이션 실행\n",
    "    result = simulate(Garlic.Model;\n",
    "        config = leaf_config,\n",
    "        index = :time,\n",
    "        target = [],\n",
    "        stop = \"calendar.count\",\n",
    "        snap = 1u\"d\"\n",
    "    )\n",
    "\n",
    "    # 결과를 데이터프레임으로 변환\n",
    "    result_df = DataFrame(result)\n",
    "    push!(leaf_results, result_df)\n",
    "\n",
    "    # 매개변수 값 기록\n",
    "    push!(params, (max_elongation_rate, min_length_longest_leaf, stay_green))\n",
    "end\n",
    "\n",
    "# 데이터프레임 열 이름 출력\n",
    "println(\"Column names of the result DataFrame: \")\n",
    "for result_df in leaf_results\n",
    "    println(names(result_df))  # 열 이름을 출력하여 확인합니다.\n",
    "end\n",
    "\n",
    "# 시뮬레이션 결과를 시각화\n",
    "function plot_simulation_results(results, params)\n",
    "    for (i, result_df) in enumerate(results)\n",
    "        # 데이터프레임에서 시간 열 추출\n",
    "        time = result_df[:, :time]  # 시간 열\n",
    "        \n",
    "        # 매개변수 값 추출\n",
    "        max_elongation_rate, min_length_longest_leaf, stay_green = params[i]\n",
    "\n",
    "        # 플롯 생성\n",
    "        p = Plots.plot(title=\"Simulation Results (Simulation $i)\", xlabel=\"Time\", ylabel=\"Value\")\n",
    "        \n",
    "        Plots.plot!(p, time, label=\"Time vs. Values\")\n",
    "        scatter!(p, time, label=\"Time Points\", marker=:circle)\n",
    "\n",
    "        # 매개변수 값을 그래프에 주석으로 추가\n",
    "        annotate!(p, [(mean(time), max_elongation_rate, text(\"Max Elongation Rate: $max_elongation_rate\", :left)),\n",
    "                      (mean(time), min_length_longest_leaf, text(\"Min Length of Longest Leaf: $min_length_longest_leaf\", :left)),\n",
    "                      (mean(time), stay_green, text(\"Stay Green: $stay_green\", :left))])\n",
    "\n",
    "        # 그래프 표시\n",
    "        display(p)\n",
    "    end\n",
    "end\n",
    "\n",
    "plot_simulation_results(leaf_results, params)\n"
   ]
  },
  {
   "cell_type": "code",
   "execution_count": null,
   "id": "d1014983-0504-4156-8d70-aabd96fcfd10",
   "metadata": {},
   "outputs": [],
   "source": [
    "visualize(leaf_sim, :time, (:max_elongation_rate, :min_length_longest_leaf, :stay_green);, kind=:line)"
   ]
  }
 ],
 "metadata": {
  "kernelspec": {
   "display_name": "Julia 1.10.0",
   "language": "julia",
   "name": "julia-1.10"
  },
  "language_info": {
   "file_extension": ".jl",
   "mimetype": "application/julia",
   "name": "julia",
   "version": "1.10.0"
  }
 },
 "nbformat": 4,
 "nbformat_minor": 5
}
